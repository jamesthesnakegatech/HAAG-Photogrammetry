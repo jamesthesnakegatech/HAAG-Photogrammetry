#!/usr/bin/env python3
"""
Advanced Comparison Notebook for NeuS2 vs SuGaR
Interactive analysis and visualization of both methods
"""

import numpy as np
import pandas as pd
import matplotlib.pyplot as plt
import plotly.graph_objects as go
import plotly.express as px
from plotly.subplots import make_subplots
from pathlib import Path
import json
import trimesh
from typing import Dict, List, Tuple
import seaborn as sns


class MethodComparison:
    """Compare NeuS2 and SuGaR reconstruction methods"""
    
    def __init__(self, dataset_dir: str = "."):
        self.dataset_dir = Path(dataset_dir)
        self.sugar_dir = self.dataset_dir / "output"
        self.neus2_dir = self.dataset_dir / "output_neus2"
        self.comparison_dir = self.dataset_dir / "comparison_results"
        self.comparison_dir.mkdir(exist_ok=True)
        
    def load_meshes(self, scene_id: str) -> Tuple[trimesh.Trimesh, trimesh.Trimesh]:
        """Load meshes from both methods"""
        # Load SuGaR mesh
        sugar_mesh_path = self.sugar_dir / scene_id / "sugar_output" / "mesh"
        sugar_mesh = None
        if sugar_mesh_path.exists():
            obj_files = list(sugar_mesh_path.glob("*.obj"))
            if obj_files:
                sugar_mesh = trimesh.load(obj_files[0])
                
        # Load NeuS2 mesh
        neus2_mesh_path = self.neus2_dir / scene_id / "mesh.ply"
        neus2_mesh = None
        if neus2_mesh_path.exists():
            neus2_mesh = trimesh.load(neus2_mesh_path)
            
        return sugar_mesh, neus2_mesh
        
    def visualize_mesh_comparison(self, scene_id: str):
        """Create side-by-side mesh visualization"""
        sugar_mesh, neus2_mesh = self.load_meshes(scene_id)
        
        if not sugar_mesh or not neus2_mesh:
            print(f"Meshes not available for {scene_id}")
            return
            
        # Create subplot figure
        fig = make_subplots(
            rows=1, cols=2,
            specs=[[{'type': 'scene'}, {'type': 'scene'}]],
            subplot_titles=('SuGaR Reconstruction', 'NeuS2 Reconstruction')
        )
        
        # Add SuGaR mesh
        vertices = sugar_mesh.vertices
        faces = sugar_mesh.faces
        
        fig.add_trace(
            go.Mesh3d(
                x=vertices[:, 0],
                y=vertices[:, 1],
                z=vertices[:, 2],
                i=faces[:, 0],
                j=faces[:, 1],
                k=faces[:, 2],
                colorscale='Viridis',
                intensity=vertices[:, 2],
                showscale=False,
                name='SuGaR'
            ),
            row=1, col=1
        )
        
        # Add NeuS2 mesh
        vertices = neus2_mesh.vertices
        faces = neus2_mesh.faces
        
        fig.add_trace(
            go.Mesh3d(
                x=vertices[:, 0],
                y=vertices[:, 1],
                z=vertices[:, 2],
                i=faces[:, 0],
                j=faces[:, 1],
                k=faces[:, 2],
                colorscale='Plasma',
                intensity=vertices[:, 2],
                showscale=False,
                name='NeuS2'
            ),
            row=1, col=2
        )
        
        # Update layout
        fig.update_layout(
            title=f"Mesh Comparison for {scene_id}",
            height=600,
            showlegend=False
        )
        
        # Save and show
        fig.write_html(self.comparison_dir / f"{scene_id}_mesh_comparison.html")
        fig.show()
        
    def compute_detailed_metrics(self, scene_id: str) -> Dict:
        """Compute detailed comparison metrics"""
        sugar_mesh, neus2_mesh = self.load_meshes(scene_id)
        
        if not sugar_mesh or not neus2_mesh:
            return {}
            
        metrics = {
            "scene_id": scene_id,
            "mesh_properties": {},
            "quality_metrics": {},
            "difference_metrics": {}
        }
        
        # Basic mesh properties
        for name, mesh in [("sugar", sugar_mesh), ("neus2", neus2_mesh)]:
            metrics["mesh_properties"][name] = {
                "vertices": len(mesh.vertices),
                "faces": len(mesh.faces),
                "edges": len(mesh.edges_unique),
                "watertight": mesh.is_watertight,
                "volume": float(mesh.volume) if mesh.is_watertight else 0,
                "surface_area": float(mesh.area),
                "bounds_size": (mesh.bounds[1] - mesh.bounds[0]).tolist()
            }
            
        # Quality metrics
        for name, mesh in [("sugar", sugar_mesh), ("neus2", neus2_mesh)]:
            # Triangle quality
            face_areas = mesh.area_faces
            metrics["quality_metrics"][f"{name}_triangle_quality"] = {
                "min_area": float(np.min(face_areas)),
                "max_area": float(np.max(face_areas)),
                "mean_area": float(np.mean(face_areas)),
                "std_area": float(np.std(face_areas))
            }
            
            # Vertex distribution
            vertex_degrees = np.array([len(mesh.vertex_neighbors[i]) for i in range(len(mesh.vertices))])
            metrics["quality_metrics"][f"{name}_vertex_distribution"] = {
                "min_degree": int(np.min(vertex_degrees)),
                "max_degree": int(np.max(vertex_degrees)),
                "mean_degree": float(np.mean(vertex_degrees))
            }
            
        # Difference metrics
        metrics["difference_metrics"] = self._compute_mesh_differences(sugar_mesh, neus2_mesh)
        
        return metrics
        
    def _compute_mesh_differences(self, mesh1: trimesh.Trimesh, mesh2: trimesh.Trimesh) -> Dict:
        """Compute differences between two meshes"""
        # Sample points for comparison
        points1, face_idx1 = trimesh.sample.sample_surface(mesh1, 10000)
        points2, face_idx2 = trimesh.sample.sample_surface(mesh2, 10000)
        
        # Compute Hausdorff and Chamfer distances
        from scipy.spatial import cKDTree
        
        tree1 = cKDTree(points1)
        tree2 = cKDTree(points2)
        
        # Forward distances
        dist_1to2, _ = tree2.query(points1)
        dist_2to1, _ = tree1.query(points2)
        
        return {
            "hausdorff_distance": float(max(np.max(dist_1to2), np.max(dist_2to1))),
            "chamfer_distance": float(np.mean(dist_1to2) + np.mean(dist_2to1)),
            "mean_distance_1to2": float(np.mean(dist_1to2)),
            "mean_distance_2to1": float(np.mean(dist_2to1)),
            "std_distance_1to2": float(np.std(dist_1to2)),
            "std_distance_2to1": float(np.std(dist_2to1)),
            "percentiles_1to2": {
                "p50": float(np.percentile(dist_1to2, 50)),
                "p90": float(np.percentile(dist_1to2, 90)),
                "p95": float(np.percentile(dist_1to2, 95)),
                "p99": float(np.percentile(dist_1to2, 99))
            }
        }
        
    def create_comparison_report(self, scene_ids: List[str]):
        """Create comprehensive comparison report"""
        all_metrics = []
        
        for scene_id in scene_ids:
            print(f"Analyzing {scene_id}...")
            metrics = self.compute_detailed_metrics(scene_id)
            if metrics:
                all_metrics.append(metrics)
                
        # Create summary DataFrame
        summary_data = []
        for m in all_metrics:
            row = {"scene_id": m["scene_id"]}
            
            # Add mesh properties
            for method in ["sugar", "neus2"]:
                if method in m["mesh_properties"]:
                    props = m["mesh_properties"][method]
                    row.update({
                        f"{method}_vertices": props["vertices"],
                        f"{method}_faces": props["faces"],
                        f"{method}_volume": props["volume"],
                        f"{method}_area": props["surface_area"]
                    })
                    
            # Add difference metrics
            if "difference_metrics" in m:
                diff = m["difference_metrics"]
                row.update({
                    "hausdorff_dist": diff["hausdorff_distance"],
                    "chamfer_dist": diff["chamfer_distance"]
                })
                
            summary_data.append(row)
            
        df = pd.DataFrame(summary_data)
        
        # Create visualizations
        self._create_summary_plots(df)
        
        # Save detailed metrics
        with open(self.comparison_dir / "detailed_metrics.json", 'w') as f:
            json.dump(all_metrics, f, indent=2)
            
        return df
        
    def _create_summary_plots(self, df: pd.DataFrame):
        """Create summary visualization plots"""
        # Set style
        plt.style.use('seaborn-v0_8')
        sns.set_palette("husl")
        
        # Create figure with subplots
        fig = plt.figure(figsize=(16, 12))
        
        # 1. Vertex count comparison
        ax1 = plt.subplot(3, 3, 1)
        x = np.arange(len(df))
        width = 0.35
        ax1.bar(x - width/2, df['sugar_vertices'], width, label='SuGaR', alpha=0.8)
        ax1.bar(x + width/2, df['neus2_vertices'], width, label='NeuS2', alpha=0.8)
        ax1.set_xlabel('Scene')
        ax1.set_ylabel('Vertex Count')
        ax1.set_title('Vertex Count Comparison')
        ax1.legend()
        ax1.set_xticks(x)
        ax1.set_xticklabels(df['scene_id'], rotation=45)
        
        # 2. Face count comparison
        ax2 = plt.subplot(3, 3, 2)
        ax2.bar(x - width/2, df['sugar_faces'], width, label='SuGaR', alpha=0.8)
        ax2.bar(x + width/2, df['neus2_faces'], width, label='NeuS2', alpha=0.8)
        ax2.set_xlabel('Scene')
        ax2.set_ylabel('Face Count')
        ax2.set_title('Face Count Comparison')
        ax2.legend()
        ax2.set_xticks(x)
        ax2.set_xticklabels(df['scene_id'], rotation=45)
        
        # 3. Surface area comparison
        ax3 = plt.subplot(3, 3, 3)
        ax3.scatter(df['sugar_area'], df['neus2_area'], s=100, alpha=0.6)
        max_area = max(df['sugar_area'].max(), df['neus2_area'].max())
        ax3.plot([0, max_area], [0, max_area], 'k--', alpha=0.3)
        ax3.set_xlabel('SuGaR Surface Area')
        ax3.set_ylabel('NeuS2 Surface Area')
        ax3.set_title('Surface Area Correlation')
        
        # 4. Hausdorff distance
        ax4 = plt.subplot(3, 3, 4)
        ax4.bar(x, df['hausdorff_dist'], alpha=0.8)
        ax4.set_xlabel('Scene')
        ax4.set_ylabel('Hausdorff Distance')
        ax4.set_title('Hausdorff Distance Between Methods')
        ax4.set_xticks(x)
        ax4.set_xticklabels(df['scene_id'], rotation=45)
        
        # 5. Chamfer distance
        ax5 = plt.subplot(3, 3, 5)
        ax5.bar(x, df['chamfer_dist'], alpha=0.8, color='orange')
        ax5.set_xlabel('Scene')
        ax5.set_ylabel('Chamfer Distance')
        ax5.set_title('Chamfer Distance Between Methods')
        ax5.set_xticks(x)
        ax5.set_xticklabels(df['scene_id'], rotation=45)
        
        # 6. Volume comparison (if available)
        if 'sugar_volume' in df.columns and 'neus2_volume' in df.columns:
            ax6 = plt.subplot(3, 3, 6)
            valid_volumes = df[(df['sugar_volume'] > 0) & (df['neus2_volume'] > 0)]
            if len(valid_volumes) > 0:
                ax6.scatter(valid_volumes['sugar_volume'], valid_volumes['neus2_volume'], s=100, alpha=0.6)
                max_vol = max(valid_volumes['sugar_volume'].max(), valid_volumes['neus2_volume'].max())
                ax6.plot([0, max_vol], [0, max_vol], 'k--', alpha=0.3)
                ax6.set_xlabel('SuGaR Volume')
                ax6.set_ylabel('NeuS2 Volume')
                ax6.set_title('Volume Correlation')
        
        # 7. Method comparison summary
        ax7 = plt.subplot(3, 3, 7)
        methods = ['SuGaR', 'NeuS2']
        avg_vertices = [df['sugar_vertices'].mean(), df['neus2_vertices'].mean()]
        avg_faces = [df['sugar_faces'].mean(), df['neus2_faces'].mean()]
        
        x_sum = np.arange(len(methods))
        ax7.bar(x_sum - width/2, avg_vertices, width, label='Avg Vertices')
        ax7.bar(x_sum + width/2, avg_faces, width, label='Avg Faces')
        ax7.set_xlabel('Method')
        ax7.set_ylabel('Count')
        ax7.set_title('Average Mesh Complexity')
        ax7.set_xticks(x_sum)
        ax7.set_xticklabels(methods)
        ax7.legend()
        
        # 8. Distance distribution
        ax8 = plt.subplot(3, 3, 8)
        ax8.hist(df['hausdorff_dist'], bins=20, alpha=0.7, label='Hausdorff', color='blue')
        ax8.hist(df['chamfer_dist'], bins=20, alpha=0.7, label='Chamfer', color='orange')
        ax8.set_xlabel('Distance')
        ax8.set_ylabel('Frequency')
        ax8.set_title('Distance Distribution')
        ax8.legend()
        
        # 9. Correlation matrix
        ax9 = plt.subplot(3, 3, 9)
        corr_cols = ['sugar_vertices', 'neus2_vertices', 'sugar_faces', 'neus2_faces', 'chamfer_dist']
        corr_data = df[corr_cols].corr()
        sns.heatmap(corr_data, annot=True, fmt='.2f', cmap='coolwarm', ax=ax9)
        ax9.set_title('Feature Correlation Matrix')
        
        plt.suptitle('NeuS2 vs SuGaR Comprehensive Comparison', fontsize=16)
        plt.tight_layout()
        plt.savefig(self.comparison_dir / 'comprehensive_comparison.png', dpi=300, bbox_inches='tight')
        plt.show()
        
    def create_interactive_dashboard(self, scene_ids: List[str]):
        """Create interactive Plotly dashboard"""
        df = self.create_comparison_report(scene_ids)
        
        # Create interactive dashboard
        fig = make_subplots(
            rows=2, cols=2,
            subplot_titles=('Mesh Complexity', 'Distance Metrics', 
                          'Surface Area vs Volume', 'Method Performance'),
            specs=[[{"secondary_y": False}, {"secondary_y": False}],
                   [{"secondary_y": False}, {"secondary_y": False}]]
        )
        
        # 1. Mesh complexity
        fig.add_trace(
            go.Bar(name='SuGaR Vertices', x=df['scene_id'], y=df['sugar_vertices']),
            row=1, col=1
        )
        fig.add_trace(
            go.Bar(name='NeuS2 Vertices', x=df['scene_id'], y=df['neus2_vertices']),
            row=1, col=1
        )
        
        # 2. Distance metrics
        fig.add_trace(
            go.Scatter(name='Hausdorff', x=df['scene_id'], y=df['hausdorff_dist'], mode='lines+markers'),
            row=1, col=2
        )
        fig.add_trace(
            go.Scatter(name='Chamfer', x=df['scene_id'], y=df['chamfer_dist'], mode='lines+markers'),
            row=1, col=2
        )
        
        # 3. Surface area vs Volume
        fig.add_trace(
            go.Scatter(
                name='SuGaR',
                x=df['sugar_area'],
                y=df['sugar_volume'],
                mode='markers',
                marker=dict(size=10)
            ),
            row=2, col=1
        )
        fig.add_trace(
            go.Scatter(
                name='NeuS2',
                x=df['neus2_area'],
                y=df['neus2_volume'],
                mode='markers',
                marker=dict(size=10)
            ),
            row=2, col=1
        )
        
        # 4. Performance radar chart (simplified box plot instead)
        fig.add_trace(
            go.Box(name='SuGaR Faces', y=df['sugar_faces']),
            row=2, col=2
        )
        fig.add_trace(
            go.Box(name='NeuS2 Faces', y=df['neus2_faces']),
            row=2, col=2
        )
        
        # Update layout
        fig.update_layout(
            title="Interactive NeuS2 vs SuGaR Comparison Dashboard",
            showlegend=True,
            height=800
        )
        
        # Update axes
        fig.update_xaxes(title_text="Scene", row=1, col=1)
        fig.update_yaxes(title_text="Vertex Count", row=1, col=1)
        fig.update_xaxes(title_text="Scene", row=1, col=2)
        fig.update_yaxes(title_text="Distance", row=1, col=2)
        fig.update_xaxes(title_text="Surface Area", row=2, col=1)
        fig.update_yaxes(title_text="Volume", row=2, col=1)
        fig.update_yaxes(title_text="Face Count", row=2, col=2)
        
        # Save
        fig.write_html(self.comparison_dir / "interactive_dashboard.html")
        fig.show()
        
        return df


# Utility functions for notebook usage
def compare_single_scene(scene_id: str, dataset_dir: str = "."):
    """Compare a single scene between methods"""
    comp = MethodComparison(dataset_dir)
    
    # Visualize meshes
    comp.visualize_mesh_comparison(scene_id)
    
    # Compute metrics
    metrics = comp.compute_detailed_metrics(scene_id)
    
    # Pretty print metrics
    print(f"\n{'='*60}")
    print(f"Comparison Results for {scene_id}")
    print(f"{'='*60}\n")
    
    if "mesh_properties" in metrics:
        print("Mesh Properties:")
        for method, props in metrics["mesh_properties"].items():
            print(f"\n{method.upper()}:")
            for k, v in props.items():
                print(f"  {k}: {v}")
                
    if "difference_metrics" in metrics:
        print("\nDifference Metrics:")
        diff = metrics["difference_metrics"]
        print(f"  Hausdorff Distance: {diff['hausdorff_distance']:.4f}")
        print(f"  Chamfer Distance: {diff['chamfer_distance']:.4f}")
        print(f"  Mean Distance (SuGaR→NeuS2): {diff['mean_distance_1to2']:.4f}")
        print(f"  Mean Distance (NeuS2→SuGaR): {diff['mean_distance_2to1']:.4f}")
        
    return metrics


def compare_batch(scene_list_file: str, dataset_dir: str = "."):
    """Compare multiple scenes and create dashboard"""
    with open(scene_list_file, 'r') as f:
        scene_ids = [line.strip() for line in f if line.strip()]
        
    comp = MethodComparison(dataset_dir)
    
    # Create interactive dashboard
    df = comp.create_interactive_dashboard(scene_ids)
    
    print("\n📊 Comparison Summary:")
    print(df.describe())
    
    return df


if __name__ == "__main__":
    import sys
    
    if len(sys.argv) > 1:
        if sys.argv[1] == "--batch" and len(sys.argv) > 2:
            compare_batch(sys.argv[2])
        else:
            compare_single_scene(sys.argv[1])
    else:
        print("Usage:")
        print("  python advanced_comparison_notebook.py <scene_id>")
        print("  python advanced_comparison_notebook.py --batch <list_file>")
